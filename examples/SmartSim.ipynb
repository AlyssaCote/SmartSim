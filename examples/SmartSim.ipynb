{
 "cells": [
  {
   "cell_type": "code",
   "execution_count": 1,
   "metadata": {},
   "outputs": [],
   "source": [
    "from smartsim import Generator, Controller, State"
   ]
  },
  {
   "cell_type": "code",
   "execution_count": 10,
   "metadata": {},
   "outputs": [],
   "source": [
    "state = State(config=\"/LAMMPS/simulation.toml\", log_level=\"debug\")"
   ]
  },
  {
   "cell_type": "code",
   "execution_count": 5,
   "metadata": {},
   "outputs": [
    {
     "name": "stderr",
     "output_type": "stream",
     "text": [
      "2019-08-13 15:19:41 C02YN0J3JG5M smartsim.state[37835] INFO SmartSim Stage: Data Generation\n"
     ]
    }
   ],
   "source": [
    "gen = Generator(state)\n",
    "gen.generate()"
   ]
  },
  {
   "cell_type": "code",
   "execution_count": 11,
   "metadata": {},
   "outputs": [
    {
     "name": "stderr",
     "output_type": "stream",
     "text": [
      "2019-08-13 15:25:41 C02YN0J3JG5M smartsim.state[37835] INFO SmartSim Stage: Simulation Control\n",
      "2019-08-13 15:25:41 C02YN0J3JG5M smartsim.state[37835] INFO Executing Target: atm\n",
      "2019-08-13 15:25:41 C02YN0J3JG5M smartsim.state[37835] INFO Running Model:  atm_20\n",
      "2019-08-13 15:25:43 C02YN0J3JG5M smartsim.state[37835] INFO Running Model:  atm_25\n",
      "2019-08-13 15:25:46 C02YN0J3JG5M smartsim.state[37835] INFO Executing Target: atm-2\n",
      "2019-08-13 15:25:46 C02YN0J3JG5M smartsim.state[37835] INFO Running Model:  atm-2_30\n",
      "2019-08-13 15:25:49 C02YN0J3JG5M smartsim.state[37835] INFO Running Model:  atm-2_35\n"
     ]
    },
    {
     "name": "stdout",
     "output_type": "stream",
     "text": [
      "Done!\n"
     ]
    }
   ],
   "source": [
    "cont = Controller(state)\n",
    "cont.start()\n",
    "if cont.finished():\n",
    "    print(\"Done!\")"
   ]
  },
  {
   "cell_type": "code",
   "execution_count": 12,
   "metadata": {},
   "outputs": [
    {
     "name": "stderr",
     "output_type": "stream",
     "text": [
      "2019-08-13 16:05:15 C02YN0J3JG5M smartsim.state[37835] INFO SmartSim Stage: Simulation Control\n",
      "2019-08-13 16:05:15 C02YN0J3JG5M smartsim.state[37835] INFO Executing Target: atm\n",
      "2019-08-13 16:05:15 C02YN0J3JG5M smartsim.state[37835] INFO Running Model:  atm_20\n",
      "2019-08-13 16:05:17 C02YN0J3JG5M smartsim.state[37835] INFO Running Model:  atm_25\n",
      "2019-08-13 16:05:20 C02YN0J3JG5M smartsim.state[37835] INFO Executing Target: atm-2\n",
      "2019-08-13 16:05:20 C02YN0J3JG5M smartsim.state[37835] INFO Running Model:  atm-2_30\n",
      "2019-08-13 16:05:23 C02YN0J3JG5M smartsim.state[37835] INFO Running Model:  atm-2_35\n"
     ]
    }
   ],
   "source": []
  },
  {
   "cell_type": "code",
   "execution_count": null,
   "metadata": {},
   "outputs": [],
   "source": []
  }
 ],
 "metadata": {
  "kernelspec": {
   "display_name": "smartsim",
   "language": "python",
   "name": "smartsim"
  },
  "language_info": {
   "codemirror_mode": {
    "name": "ipython",
    "version": 3
   },
   "file_extension": ".py",
   "mimetype": "text/x-python",
   "name": "python",
   "nbconvert_exporter": "python",
   "pygments_lexer": "ipython3",
   "version": "3.7.4"
  }
 },
 "nbformat": 4,
 "nbformat_minor": 2
}
