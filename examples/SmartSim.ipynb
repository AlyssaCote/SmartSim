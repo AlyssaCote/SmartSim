{
 "cells": [
  {
   "cell_type": "markdown",
   "metadata": {},
   "source": [
    "# SmartSim Demo"
   ]
  },
  {
   "cell_type": "code",
   "execution_count": 21,
   "metadata": {},
   "outputs": [],
   "source": [
    "from smartsim import Generator, Controller, State"
   ]
  },
  {
   "cell_type": "markdown",
   "metadata": {},
   "source": [
    "### Initialize State\n",
    "  - State keeps track of experiment, targets, and models\n",
    "  - In this demo, the python interface is used to run an experiment instead of a simulation.toml"
   ]
  },
  {
   "cell_type": "code",
   "execution_count": 22,
   "metadata": {},
   "outputs": [
    {
     "name": "stderr",
     "output_type": "stream",
     "text": [
      "2019-08-28 12:21:34 C02YN0J3JG5M smartsim.state[9857] INFO State created without target, target will have to be created\n"
     ]
    }
   ],
   "source": [
    "# initialize state object\n",
    "state = State(experiment=\"lammps_atm\", log_level=\"INFO\")\n"
   ]
  },
  {
   "cell_type": "markdown",
   "metadata": {},
   "source": [
    "### Create targets\n",
    "  - Targets are groups of models that run with similar global configurations.\n",
    "  - Within each target there can be a theoretically infinite number of models.\n",
    "  - The models generated in this case use the default \"all_permutations\" strategy which creates a model for each permutation of the target parameters"
   ]
  },
  {
   "cell_type": "code",
   "execution_count": 23,
   "metadata": {},
   "outputs": [],
   "source": [
    "# create targets\n",
    "param_dict_1 = {\"25\": [20, 25]}\n",
    "param_dict_2 = {\"25\": [30, 40]}\n",
    "state.create_target(\"atm\", params=param_dict_1)\n",
    "state.create_target(\"atm-2\", params=param_dict_2)"
   ]
  },
  {
   "cell_type": "markdown",
   "metadata": {},
   "source": [
    "### Generate Models\n",
    "   - The generator must be given the marked model files as input in either the class initialization or in the simulation.toml\n",
    "   - The tag used for the marking of configuration files is settable from the generator class using ``Generator.set_tag()``"
   ]
  },
  {
   "cell_type": "code",
   "execution_count": 24,
   "metadata": {},
   "outputs": [
    {
     "name": "stderr",
     "output_type": "stream",
     "text": [
      "2019-08-28 12:21:37 C02YN0J3JG5M smartsim.state[9857] INFO SmartSim State: Data Generation\n"
     ]
    }
   ],
   "source": [
    "base_config = \"LAMMPS/in.atm\"\n",
    "gen = Generator(state, model_files=base_config)\n",
    "gen.set_tag(\";\")\n",
    "gen.generate()\n"
   ]
  },
  {
   "cell_type": "markdown",
   "metadata": {},
   "source": [
    "### Simulation\n",
    "  - The controller must be given at least \n",
    "       - executable\n",
    "       - run_command/launcher\n",
    "  - run_args are given to the run_command\n",
    "  - exe_args are given to the executable\n",
    "  - To see if the simulation is finished use the ``Controller.finished()`` method"
   ]
  },
  {
   "cell_type": "code",
   "execution_count": 25,
   "metadata": {},
   "outputs": [
    {
     "name": "stderr",
     "output_type": "stream",
     "text": [
      "2019-08-28 12:21:40 C02YN0J3JG5M smartsim.state[9857] INFO SmartSim Stage: Simulation Control\n",
      "2019-08-28 12:21:40 C02YN0J3JG5M smartsim.state[9857] INFO Executing Target: atm\n",
      "2019-08-28 12:21:45 C02YN0J3JG5M smartsim.state[9857] INFO Executing Target: atm-2\n"
     ]
    },
    {
     "name": "stdout",
     "output_type": "stream",
     "text": [
      "Done!\n"
     ]
    }
   ],
   "source": [
    "sim = Controller(state, executable=\"lmp_mpi\", run_command=\"mpirun\",\n",
    "                  run_args=\"-np 6\", exe_args=\"-in in.atm\")\n",
    "sim.start()\n",
    "if sim.finished():\n",
    "    print(\"Done!\")"
   ]
  },
  {
   "cell_type": "code",
   "execution_count": null,
   "metadata": {},
   "outputs": [],
   "source": []
  },
  {
   "cell_type": "code",
   "execution_count": null,
   "metadata": {},
   "outputs": [],
   "source": []
  },
  {
   "cell_type": "code",
   "execution_count": null,
   "metadata": {},
   "outputs": [],
   "source": []
  }
 ],
 "metadata": {
  "kernelspec": {
   "display_name": "smartsim",
   "language": "python",
   "name": "smartsim"
  },
  "language_info": {
   "codemirror_mode": {
    "name": "ipython",
    "version": 3
   },
   "file_extension": ".py",
   "mimetype": "text/x-python",
   "name": "python",
   "nbconvert_exporter": "python",
   "pygments_lexer": "ipython3",
   "version": "3.7.4"
  }
 },
 "nbformat": 4,
 "nbformat_minor": 2
}
