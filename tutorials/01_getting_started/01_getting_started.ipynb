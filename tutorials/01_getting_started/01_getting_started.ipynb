{
 "metadata": {
  "language_info": {
   "codemirror_mode": {
    "name": "ipython",
    "version": 3
   },
   "file_extension": ".py",
   "mimetype": "text/x-python",
   "name": "python",
   "nbconvert_exporter": "python",
   "pygments_lexer": "ipython3",
   "version": "3.8.8-final"
  },
  "orig_nbformat": 2,
  "kernelspec": {
   "name": "python3",
   "display_name": "Python 3.8.8 64-bit ('smartsim': conda)",
   "metadata": {
    "interpreter": {
     "hash": "bd6448ef55edaddea596588425b190d448d6d5f343336140cd8c681933617bbd"
    }
   }
  }
 },
 "nbformat": 4,
 "nbformat_minor": 2,
 "cells": [
  {
   "source": [
    "# SmartSim tutorial 1:  getting started\n",
    "In this notebook, we will walk through the most basic functionalities of SmartSim, such as setting up an experiment running two models, launching it locally, and collecting its results. We will also look at how we can use the `Ensemble` API to run models collectively. \n",
    "\n",
    "## 1.1 Running simple models \n",
    "The most common way of defining a workflow in SmartSim is through `Experiment`s. An experiment can start and stop a `Model` and check (`poll`) its status at any time. In section *1.2* we will also see how an `Experiment` can be used to run experiments as `Ensemble`s.\n",
    "\n",
    "We begin by importing the modules we need: `Experiment` and `RunSettings`. `RunSettings` is the object used in SmartSim to define what will be run by a given `Model`. `RunSettings` is the most basic way of defining execution parameters, and will be perfect for executing programs launched locally, i.e. directly by the operating system, without a workload manager. We also import `os`, as we will need to setup the directory where the `Model`s will place their output and error files."
   ],
   "cell_type": "markdown",
   "metadata": {}
  },
  {
   "cell_type": "code",
   "execution_count": 2,
   "metadata": {},
   "outputs": [],
   "source": [
    "import os\n",
    "from smartsim import Experiment\n",
    "from smartsim.settings import RunSettings"
   ]
  },
  {
   "source": [
    "Throughout this notebook, we will incrementally build an `Experiment`. Let's start from the simplest case: a single-`Model` example. Our first `Model` will simply print `hello`, using the shell command `echo`."
   ],
   "cell_type": "markdown",
   "metadata": {}
  },
  {
   "cell_type": "code",
   "execution_count": 12,
   "metadata": {},
   "outputs": [],
   "source": [
    "exp = Experiment(name=\"tutorial-experiment\", launcher=\"local\")\n",
    "\n",
    "settings_1 = RunSettings(exe=\"echo\", exe_args=\"hello\")\n",
    "M1 = exp.create_model(name=\"tutorial-model-1\", run_settings=settings_1)"
   ]
  },
  {
   "source": [
    "Once the `Model` has been created by the `Experiment`, we can start it. By setting `summary=True`, we can see a summary of the experiment printed before it is effectively launched. The summary will stay for 10 seconds, and it is useful as a last check. If we set `summary=False`, then the experiment would be launched immediately. We also explicitly set `block=True` (even though it is the default), so that  `Experiment.start` waits until the last `Model` has finished before returning: it will act like a job monitor, letting us know if processes run, complete, or fail."
   ],
   "cell_type": "markdown",
   "metadata": {}
  },
  {
   "cell_type": "code",
   "execution_count": 13,
   "metadata": {},
   "outputs": [
    {
     "output_type": "stream",
     "name": "stdout",
     "text": [
      "\n",
      "\n",
      "\u001b[36;1m=== LAUNCH SUMMARY ===\u001b[0m\n",
      "\u001b[32;1mExperiment: tutorial-experiment\u001b[0m\n",
      "\u001b[32mExperiment Path: /Users/arigazzi/Documents/DeepLearning/smartsim-dev/SmartSim/tutorials/01_getting_started/tutorial-experiment\u001b[0m\n",
      "\u001b[32mLaunching with: local\u001b[0m\n",
      "\u001b[32m# of Ensembles: 0\u001b[0m\n",
      "\u001b[32m# of Models: 1\u001b[0m\n",
      "\u001b[32mDatabase: no\u001b[0m\n",
      "\n",
      "\u001b[36;1m=== MODELS ===\u001b[0m\n",
      "\u001b[32;1mmodel-1\u001b[0m\n",
      "\u001b[32mModel Parameters: \n",
      "{}\u001b[0m\n",
      "\u001b[32mModel Run Settings: \n",
      "Executable: /bin/echo\n",
      "Executable arguments: ['hello']\n",
      "\u001b[0m\n",
      "\n",
      "\n",
      "\n",
      "\n",
      "20:26:49 C02YR4ANLVCJ SmartSim[66295] INFO model-1(66934): Completed\n"
     ]
    }
   ],
   "source": [
    "exp.start(M1, block=True, summary=True)"
   ]
  },
  {
   "source": [
    "The model has completed. Let's look at the content of the current working directory."
   ],
   "cell_type": "markdown",
   "metadata": {}
  },
  {
   "cell_type": "code",
   "execution_count": 14,
   "metadata": {},
   "outputs": [
    {
     "output_type": "stream",
     "name": "stdout",
     "text": [
      "Content of model-1.out:\nhello\n\nContent of model-1.err:\n\n"
     ]
    }
   ],
   "source": [
    "os.listdir('.')\n",
    "\n",
    "outputfile = './tutorial-model-1.out'\n",
    "errorfile = './tutorial-model-1.err'\n",
    "\n",
    "print(\"Content of tutorial-model-1.out:\")\n",
    "with open(outputfile, 'r') as fin:\n",
    "    print(fin.read())\n",
    "print(\"Content of tutorial-model-1.err:\")\n",
    "with open(errorfile, 'r') as fin:\n",
    "    print(fin.read())"
   ]
  },
  {
   "source": [
    "We can see that two files, `tutorial-model-1.out` and `tutorial-model-1.err` have been created. The `.out` file contains the output generated by `model-1`, and the `.err` file would contain the error messages generated by it. Since there were no errors, the `.err` file is empty.\n",
    "\n",
    "Now let's run two different `Model` instances at the same time. This is just as easy as running one `Model`, and takes the same steps. This time, we will skip the summary. For each `Model`, we create a `RunSettings` object: it is recommended to always create separate `RunSettings` objects for each `Model`."
   ],
   "cell_type": "markdown",
   "metadata": {}
  },
  {
   "cell_type": "code",
   "execution_count": 22,
   "metadata": {},
   "outputs": [
    {
     "output_type": "stream",
     "name": "stdout",
     "text": [
      "20:35:41 C02YR4ANLVCJ SmartSim[66295] INFO tutorial-model-1(67088): Completed\n",
      "20:35:41 C02YR4ANLVCJ SmartSim[66295] INFO tutorial-model-2(67089): Running\n",
      "20:35:42 C02YR4ANLVCJ SmartSim[66295] INFO tutorial-model-1(67088): Completed\n",
      "20:35:42 C02YR4ANLVCJ SmartSim[66295] INFO tutorial-model-2(67089): Completed\n"
     ]
    }
   ],
   "source": [
    "exp = Experiment(name=\"tutorial-experiment\", launcher=\"local\")\n",
    "\n",
    "run_settings_1 = RunSettings(\"sleep\", \"3\")\n",
    "run_settings_2 = RunSettings(\"sleep\", \"5\")\n",
    "model_1 = exp.create_model(\"tutorial-model-1\", run_settings_1)\n",
    "model_2 = exp.create_model(\"tutorial-model-2\", run_settings_2)\n",
    "exp.start(model_1, model_2)"
   ]
  },
  {
   "source": [
    "Again, we can check the content of the output and error files."
   ],
   "cell_type": "markdown",
   "metadata": {}
  },
  {
   "cell_type": "code",
   "execution_count": 23,
   "metadata": {},
   "outputs": [
    {
     "output_type": "stream",
     "name": "stdout",
     "text": [
      "Content of tutorial-model-1.out:\n\nContent of tutorial-model-1.err:\n\nContent of tutorial-model-2.out:\n\nContent of tutorial-model-2.err:\n\n"
     ]
    }
   ],
   "source": [
    "outputfile = './tutorial-model-1.out'\n",
    "errorfile = './tutorial-model-1.err'\n",
    "\n",
    "print(\"Content of tutorial-model-1.out:\")\n",
    "with open(outputfile, 'r') as fin:\n",
    "    print(fin.read())\n",
    "print(\"Content of tutorial-model-1.err:\")\n",
    "with open(errorfile, 'r') as fin:\n",
    "    print(fin.read())\n",
    "\n",
    "outputfile = './tutorial-model-2.out'\n",
    "errorfile = './tutorial-model-2.err'\n",
    "\n",
    "print(\"Content of tutorial-model-2.out:\")\n",
    "with open(outputfile, 'r') as fin:\n",
    "    print(fin.read())\n",
    "print(\"Content of tutorial-model-2.err:\")\n",
    "with open(errorfile, 'r') as fin:\n",
    "    print(fin.read())"
   ]
  },
  {
   "source": [
    "In many cases, a launcher different from `local` can be useful. For example, if `mpirun` is installed on the system, we can run a model through it, by specifying it as `run_command` in `RunSettings`. Since `mpirun` takes arguments (e.g. to define how many processes will be run), we pass them by defining `run_args` in `RunSettings`."
   ],
   "cell_type": "markdown",
   "metadata": {}
  },
  {
   "cell_type": "code",
   "execution_count": 35,
   "metadata": {},
   "outputs": [
    {
     "output_type": "stream",
     "name": "stdout",
     "text": [
      "\n",
      "\n",
      "\u001b[36;1m=== LAUNCH SUMMARY ===\u001b[0m\n",
      "\u001b[32;1mExperiment: tutorial\u001b[0m\n",
      "\u001b[32mExperiment Path: /Users/arigazzi/Documents/DeepLearning/smartsim-dev/SmartSim/tutorials/01_getting_started/tutorial\u001b[0m\n",
      "\u001b[32mLaunching with: local\u001b[0m\n",
      "\u001b[32m# of Ensembles: 0\u001b[0m\n",
      "\u001b[32m# of Models: 1\u001b[0m\n",
      "\u001b[32mDatabase: no\u001b[0m\n",
      "\n",
      "\u001b[36;1m=== MODELS ===\u001b[0m\n",
      "\u001b[32;1mtutorial-model-mpirun\u001b[0m\n",
      "\u001b[32mModel Parameters: \n",
      "{}\u001b[0m\n",
      "\u001b[32mModel Run Settings: \n",
      "Executable: /bin/echo\n",
      "Executable arguments: ['hello', 'world!']\n",
      "Run Command: mpirun\n",
      "Run arguments: {'-np': 2}\u001b[0m\n",
      "\n",
      "\n",
      "\n",
      "\n",
      "21:20:26 C02YR4ANLVCJ SmartSim[66295] INFO tutorial-model-mpirun(67710): Completed\n"
     ]
    }
   ],
   "source": [
    "exp = Experiment(\"tutorial\", launcher=\"local\")\n",
    "run_settings = RunSettings(\"echo\",\n",
    "                           \"hello world!\",\n",
    "                           run_command=\"mpirun\",\n",
    "                           run_args={\"-np\": 2}) # note that for base ``RunSettings`` run_args passed literally\n",
    "                      \n",
    "model = exp.create_model(\"tutorial-model-mpirun\", run_settings)\n",
    "exp.start(model, summary=True)"
   ]
  },
  {
   "source": [
    "This time, since we passed `-np 2` to `mpirun`, in the output file we should find the line `hello world!` twice."
   ],
   "cell_type": "markdown",
   "metadata": {}
  },
  {
   "cell_type": "code",
   "execution_count": 36,
   "metadata": {},
   "outputs": [
    {
     "output_type": "stream",
     "name": "stdout",
     "text": [
      "Content of tutorial-model-mpirun.out:\nhello world!\nhello world!\nhello world!\nhello world!\nhello world!\nhello world!\nhello world!\nhello world!\n\nContent of tutorial-model-mpirun.err:\n\n"
     ]
    }
   ],
   "source": [
    "outputfile = './tutorial-model-mpirun.out'\n",
    "errorfile = './tutorial-model-mpirun.err'\n",
    "\n",
    "print(\"Content of tutorial-model-mpirun.out:\")\n",
    "with open(outputfile, 'r') as fin:\n",
    "    print(fin.read())\n",
    "print(\"Content of tutorial-model-mpirun.err:\")\n",
    "with open(errorfile, 'r') as fin:\n",
    "    print(fin.read())"
   ]
  },
  {
   "source": [
    "## 1.2 Creating and running ensembles of models\n",
    "In the previous example, the two `Model` instances were created separately. For few, simple `Model`s, this is OK, but what if we needed to run a large number of models, which only differ for some parameter? Defining and adding each one separately would be tedious. For such cases, we will rely on an `Ensemble` of models.  "
   ],
   "cell_type": "markdown",
   "metadata": {}
  },
  {
   "cell_type": "code",
   "execution_count": null,
   "metadata": {},
   "outputs": [],
   "source": []
  }
 ]
}