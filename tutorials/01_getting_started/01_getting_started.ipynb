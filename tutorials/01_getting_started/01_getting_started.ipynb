{
 "cells": [
  {
   "cell_type": "markdown",
   "metadata": {},
   "source": [
    "# SmartSim tutorial 1:  getting started\n",
    "In this notebook, we will walk through the most basic functionalities of SmartSim, such as setting up an experiment running two models, launching it locally, and collecting its results. We will also look at how we can use the `Ensemble` API to run models collectively. \n",
    "\n",
    "## 1.1 Running simple models \n",
    "The most common way of defining a workflow in SmartSim is through `Experiment`s. An experiment can start and stop a `Model` and check (`poll`) its status at any time. In section *1.2* we will also see how an `Experiment` can be used to run experiments as `Ensemble`s.\n",
    "\n",
    "We begin by importing the modules we need: `Experiment` and `RunSettings`. `RunSettings` is the object used in SmartSim to define what will be run by a given `Model`. `RunSettings` is the most basic way of defining execution parameters, and will be perfect for executing programs launched locally, i.e. directly by the operating system, without a workload manager. We also import `os`, as we will need to setup the directory where the `Model`s will place their output and error files."
   ]
  },
  {
   "cell_type": "code",
   "execution_count": 1,
   "metadata": {},
   "outputs": [],
   "source": [
    "import os\n",
    "from smartsim import Experiment\n",
    "from smartsim.settings import RunSettings"
   ]
  },
  {
   "cell_type": "markdown",
   "metadata": {},
   "source": [
    "Throughout this notebook, we will incrementally build an `Experiment`. Let's start from the simplest case: a single-`Model` example. Our first `Model` will simply print `hello`, using the shell command `echo`."
   ]
  },
  {
   "cell_type": "code",
   "execution_count": 2,
   "metadata": {},
   "outputs": [],
   "source": [
    "exp = Experiment(name=\"tutorial-experiment\", launcher=\"local\")\n",
    "\n",
    "settings_1 = RunSettings(exe=\"echo\", exe_args=\"hello\")\n",
    "M1 = exp.create_model(name=\"tutorial-model-1\", run_settings=settings_1)"
   ]
  },
  {
   "cell_type": "markdown",
   "metadata": {},
   "source": [
    "Once the `Model` has been created by the `Experiment`, we can start it. By setting `summary=True`, we can see a summary of the experiment printed before it is effectively launched. The summary will stay for 10 seconds, and it is useful as a last check. If we set `summary=False`, then the experiment would be launched immediately. We also explicitly set `block=True` (even though it is the default), so that  `Experiment.start` waits until the last `Model` has finished before returning: it will act like a job monitor, letting us know if processes run, complete, or fail."
   ]
  },
  {
   "cell_type": "code",
   "execution_count": 3,
   "metadata": {},
   "outputs": [
    {
     "name": "stdout",
     "output_type": "stream",
     "text": [
      "\n",
      "\n",
      "\u001b[36;1m=== LAUNCH SUMMARY ===\u001b[0m\n",
      "\u001b[32;1mExperiment: tutorial-experiment\u001b[0m\n",
      "\u001b[32mExperiment Path: /Users/arigazzi/Documents/DeepLearning/smartsim-dev/SmartSim/tutorials/01_getting_started/tutorial-experiment\u001b[0m\n",
      "\u001b[32mLaunching with: local\u001b[0m\n",
      "\u001b[32m# of Ensembles: 0\u001b[0m\n",
      "\u001b[32m# of Models: 1\u001b[0m\n",
      "\u001b[32mDatabase: no\u001b[0m\n",
      "\n",
      "\u001b[36;1m=== MODELS ===\u001b[0m\n",
      "\u001b[32;1mtutorial-model-1\u001b[0m\n",
      "\u001b[32mModel Parameters: \n",
      "{}\u001b[0m\n",
      "\u001b[32mModel Run Settings: \n",
      "Executable: /bin/echo\n",
      "Executable arguments: ['hello']\n",
      "\u001b[0m\n",
      "\n",
      "\n",
      "\n",
      "\n"
     ]
    },
    {
     "name": "stderr",
     "output_type": "stream",
     "text": [
      "                                                                                \r"
     ]
    },
    {
     "name": "stdout",
     "output_type": "stream",
     "text": [
      "03:40:50 C02YR4ANLVCJ SmartSim[6230] INFO tutorial-model-1(6241): Completed\n"
     ]
    }
   ],
   "source": [
    "exp.start(M1, block=True, summary=True)"
   ]
  },
  {
   "cell_type": "markdown",
   "metadata": {},
   "source": [
    "The model has completed. Let's look at the content of the current working directory."
   ]
  },
  {
   "cell_type": "code",
   "execution_count": 4,
   "metadata": {},
   "outputs": [
    {
     "name": "stdout",
     "output_type": "stream",
     "text": [
      "Content of tutorial-model-1.out:\n",
      "hello\n",
      "\n",
      "Content of tutorial-model-1.err:\n",
      "\n"
     ]
    }
   ],
   "source": [
    "os.listdir('.')\n",
    "\n",
    "outputfile = './tutorial-model-1.out'\n",
    "errorfile = './tutorial-model-1.err'\n",
    "\n",
    "print(\"Content of tutorial-model-1.out:\")\n",
    "with open(outputfile, 'r') as fin:\n",
    "    print(fin.read())\n",
    "print(\"Content of tutorial-model-1.err:\")\n",
    "with open(errorfile, 'r') as fin:\n",
    "    print(fin.read())"
   ]
  },
  {
   "cell_type": "markdown",
   "metadata": {},
   "source": [
    "We can see that two files, `tutorial-model-1.out` and `tutorial-model-1.err` have been created. The `.out` file contains the output generated by `model-1`, and the `.err` file would contain the error messages generated by it. Since there were no errors, the `.err` file is empty.\n",
    "\n",
    "Now let's run two different `Model` instances at the same time. This is just as easy as running one `Model`, and takes the same steps. This time, we will skip the summary. For each `Model`, we create a `RunSettings` object: it is recommended to always create separate `RunSettings` objects for each `Model`."
   ]
  },
  {
   "cell_type": "code",
   "execution_count": 5,
   "metadata": {},
   "outputs": [
    {
     "name": "stdout",
     "output_type": "stream",
     "text": [
      "03:40:57 C02YR4ANLVCJ SmartSim[6230] INFO tutorial-model-1(6243): Completed\n",
      "03:40:57 C02YR4ANLVCJ SmartSim[6230] INFO tutorial-model-2(6244): Running\n",
      "03:40:58 C02YR4ANLVCJ SmartSim[6230] INFO tutorial-model-1(6243): Completed\n",
      "03:40:58 C02YR4ANLVCJ SmartSim[6230] INFO tutorial-model-2(6244): Completed\n"
     ]
    }
   ],
   "source": [
    "exp = Experiment(name=\"tutorial-experiment\", launcher=\"local\")\n",
    "\n",
    "run_settings_1 = RunSettings(\"sleep\", \"3\")\n",
    "run_settings_2 = RunSettings(\"sleep\", \"5\")\n",
    "model_1 = exp.create_model(\"tutorial-model-1\", run_settings_1)\n",
    "model_2 = exp.create_model(\"tutorial-model-2\", run_settings_2)\n",
    "exp.start(model_1, model_2)"
   ]
  },
  {
   "cell_type": "markdown",
   "metadata": {},
   "source": [
    "Again, we can check the content of the output and error files."
   ]
  },
  {
   "cell_type": "code",
   "execution_count": 6,
   "metadata": {},
   "outputs": [
    {
     "name": "stdout",
     "output_type": "stream",
     "text": [
      "Content of tutorial-model-1.out:\n",
      "\n",
      "Content of tutorial-model-1.err:\n",
      "\n",
      "Content of tutorial-model-2.out:\n",
      "\n",
      "Content of tutorial-model-2.err:\n",
      "\n"
     ]
    }
   ],
   "source": [
    "outputfile = './tutorial-model-1.out'\n",
    "errorfile = './tutorial-model-1.err'\n",
    "\n",
    "print(\"Content of tutorial-model-1.out:\")\n",
    "with open(outputfile, 'r') as fin:\n",
    "    print(fin.read())\n",
    "print(\"Content of tutorial-model-1.err:\")\n",
    "with open(errorfile, 'r') as fin:\n",
    "    print(fin.read())\n",
    "\n",
    "outputfile = './tutorial-model-2.out'\n",
    "errorfile = './tutorial-model-2.err'\n",
    "\n",
    "print(\"Content of tutorial-model-2.out:\")\n",
    "with open(outputfile, 'r') as fin:\n",
    "    print(fin.read())\n",
    "print(\"Content of tutorial-model-2.err:\")\n",
    "with open(errorfile, 'r') as fin:\n",
    "    print(fin.read())"
   ]
  },
  {
   "cell_type": "markdown",
   "metadata": {},
   "source": [
    "In many cases, a launcher different from `local` can be useful. For example, if `mpirun` is installed on the system, we can run a model through it, by specifying it as `run_command` in `RunSettings`. Since `mpirun` takes arguments (e.g. to define how many processes will be run), we pass them by defining `run_args` in `RunSettings`."
   ]
  },
  {
   "cell_type": "code",
   "execution_count": 7,
   "metadata": {},
   "outputs": [
    {
     "name": "stdout",
     "output_type": "stream",
     "text": [
      "\n",
      "\n",
      "\u001b[36;1m=== LAUNCH SUMMARY ===\u001b[0m\n",
      "\u001b[32;1mExperiment: tutorial\u001b[0m\n",
      "\u001b[32mExperiment Path: /Users/arigazzi/Documents/DeepLearning/smartsim-dev/SmartSim/tutorials/01_getting_started/tutorial\u001b[0m\n",
      "\u001b[32mLaunching with: local\u001b[0m\n",
      "\u001b[32m# of Ensembles: 0\u001b[0m\n",
      "\u001b[32m# of Models: 1\u001b[0m\n",
      "\u001b[32mDatabase: no\u001b[0m\n",
      "\n",
      "\u001b[36;1m=== MODELS ===\u001b[0m\n",
      "\u001b[32;1mtutorial-model-mpirun\u001b[0m\n",
      "\u001b[32mModel Parameters: \n",
      "{}\u001b[0m\n",
      "\u001b[32mModel Run Settings: \n",
      "Executable: /bin/echo\n",
      "Executable arguments: ['hello', 'world!']\n",
      "Run Command: mpirun\n",
      "Run arguments: {'-np': 2}\u001b[0m\n",
      "\n",
      "\n",
      "\n",
      "\n"
     ]
    },
    {
     "name": "stderr",
     "output_type": "stream",
     "text": [
      "                                                                                \r"
     ]
    },
    {
     "name": "stdout",
     "output_type": "stream",
     "text": [
      "03:41:16 C02YR4ANLVCJ SmartSim[6230] INFO tutorial-model-mpirun(6283): Completed\n"
     ]
    }
   ],
   "source": [
    "exp = Experiment(\"tutorial\", launcher=\"local\")\n",
    "run_settings = RunSettings(\"echo\",\n",
    "                           \"hello world!\",\n",
    "                           run_command=\"mpirun\",\n",
    "                           run_args={\"-np\": 2}) # note that for base ``RunSettings`` run_args passed literally\n",
    "                      \n",
    "model = exp.create_model(\"tutorial-model-mpirun\", run_settings)\n",
    "exp.start(model, summary=True)"
   ]
  },
  {
   "cell_type": "markdown",
   "metadata": {},
   "source": [
    "This time, since we passed `-np 2` to `mpirun`, in the output file we should find the line `hello world!` twice."
   ]
  },
  {
   "cell_type": "code",
   "execution_count": 8,
   "metadata": {},
   "outputs": [
    {
     "name": "stdout",
     "output_type": "stream",
     "text": [
      "Content of tutorial-model-mpirun.out:\n",
      "hello world!\n",
      "hello world!\n",
      "hello world!\n",
      "hello world!\n",
      "hello world!\n",
      "hello world!\n",
      "hello world!\n",
      "hello world!\n",
      "\n",
      "Content of tutorial-model-mpirun.err:\n",
      "\n"
     ]
    }
   ],
   "source": [
    "outputfile = './tutorial-model-mpirun.out'\n",
    "errorfile = './tutorial-model-mpirun.err'\n",
    "\n",
    "print(\"Content of tutorial-model-mpirun.out:\")\n",
    "with open(outputfile, 'r') as fin:\n",
    "    print(fin.read())\n",
    "print(\"Content of tutorial-model-mpirun.err:\")\n",
    "with open(errorfile, 'r') as fin:\n",
    "    print(fin.read())"
   ]
  },
  {
   "cell_type": "markdown",
   "metadata": {},
   "source": [
    "## 1.2 Creating and running replicas and ensembles of models\n",
    "In the previous example, the two `Model` instances were created separately. There are more convenient ways of doing this, through `Ensemble`s. The first way we are going to see concerns running the same exact model several times. We first set up the example the standard way."
   ]
  },
  {
   "cell_type": "code",
   "execution_count": 11,
   "metadata": {},
   "outputs": [],
   "source": [
    "exp = Experiment(name=\"tutorial-experiment\", launcher=\"local\")\n",
    "settings_1 = RunSettings(exe=\"sleep\", exe_args=\"3\")\n"
   ]
  },
  {
   "cell_type": "markdown",
   "metadata": {},
   "source": [
    "Then, instead of creating it as we did before, we use `create_ensemble`. Let's assume we want to run the same experiment four times, then we will pass the `replicas=4` argument and simply start the `Ensemble`."
   ]
  },
  {
   "cell_type": "code",
   "execution_count": 12,
   "metadata": {},
   "outputs": [
    {
     "name": "stdout",
     "output_type": "stream",
     "text": [
      "\n",
      "\n",
      "\u001b[36;1m=== LAUNCH SUMMARY ===\u001b[0m\n",
      "\u001b[32;1mExperiment: tutorial-experiment\u001b[0m\n",
      "\u001b[32mExperiment Path: /Users/arigazzi/Documents/DeepLearning/smartsim-dev/SmartSim/tutorials/01_getting_started/tutorial-experiment\u001b[0m\n",
      "\u001b[32mLaunching with: local\u001b[0m\n",
      "\u001b[32m# of Ensembles: 1\u001b[0m\n",
      "\u001b[32m# of Models: 0\u001b[0m\n",
      "\u001b[32mDatabase: no\u001b[0m\n",
      "\n",
      "\u001b[36;1m=== ENSEMBLES ===\u001b[0m\n",
      "\u001b[32;1mensemble-replica\u001b[0m\n",
      "\u001b[32m# of models in ensemble: 4\u001b[0m\n",
      "\u001b[32mLaunching as batch: False\u001b[0m\n",
      "\u001b[32mRun Settings: \n",
      "Executable: /bin/sleep\n",
      "Executable arguments: ['3']\n",
      "\u001b[0m\n",
      "\n",
      "\n",
      "\n",
      "\n"
     ]
    },
    {
     "name": "stderr",
     "output_type": "stream",
     "text": [
      "                                                                                \r"
     ]
    },
    {
     "name": "stdout",
     "output_type": "stream",
     "text": [
      "03:42:43 C02YR4ANLVCJ SmartSim[6230] INFO ensemble-replica_0(6305): Completed\n",
      "03:42:43 C02YR4ANLVCJ SmartSim[6230] INFO ensemble-replica_1(6306): Completed\n",
      "03:42:43 C02YR4ANLVCJ SmartSim[6230] INFO ensemble-replica_2(6307): Completed\n",
      "03:42:43 C02YR4ANLVCJ SmartSim[6230] INFO ensemble-replica_3(6308): Completed\n",
      "03:42:44 C02YR4ANLVCJ SmartSim[6230] INFO ensemble-replica_0(6305): Completed\n",
      "03:42:44 C02YR4ANLVCJ SmartSim[6230] INFO ensemble-replica_1(6306): Completed\n",
      "03:42:44 C02YR4ANLVCJ SmartSim[6230] INFO ensemble-replica_2(6307): Completed\n",
      "03:42:47 C02YR4ANLVCJ SmartSim[6230] INFO ensemble-replica_3(6308): Completed\n"
     ]
    }
   ],
   "source": [
    "ensemble = exp.create_ensemble(\"ensemble-replica\", replicas=4, run_settings=settings_1)\n",
    "exp.start(ensemble, summary=True)"
   ]
  },
  {
   "cell_type": "markdown",
   "metadata": {},
   "source": [
    "From the output, we see that four copies of our `Model`, named `ensemble-replica_0`, `ensemble-replica_1`, ... were run. In each output file, we will see that the same output was generated.\n",
    "\n",
    "Now let's imagine that we don't want to run the *same* model four times, but we want to run variations of it. One way of doing this would be to define four models, and starting them through the `Experiment`.\n",
    "For few, simple `Model`s, this woukd OK, but what if we needed to run a large number of models, which only differ for some parameter? Defining and adding each one separately would be tedious. For such cases, we will rely on a parameterized `Ensemble` of models.\n",
    "\n",
    "Our goal is to run \n",
    "\n",
    "```python output_my_parameter.py```\n",
    "\n",
    " changing some internal parameters of `output_my_parameter.py`. Clearly, we could pass the parameters as arguments, but in some cases, this could not be possible (e.g. if the parameters were stored in a file and the executable would not accept them from the command line). We begin by defining the `Experiment` in the standard way."
   ]
  },
  {
   "cell_type": "code",
   "execution_count": 13,
   "metadata": {},
   "outputs": [],
   "source": [
    "exp = Experiment(\"tutorial-ensemble\", launcher=\"local\")\n",
    "rs = RunSettings(exe=\"python\", exe_args=\"output_my_parameter.py\")"
   ]
  },
  {
   "cell_type": "markdown",
   "metadata": {},
   "source": [
    "Then, we define the parameters we are going to set: `tutorial_name` and `tutorial_parameter`. In the original file `output_my_parameter.py`, which acts as a template, they occur as `;tutorial_name;` and `;tutorial_parameter;`. The semi-colons are used to perform a regexp substitution with the desired values. We pass them to `create_ensemble`, along with the argument `perm_strategy=\"all_perm\"`. This argument means that we want all possible permutations of the given parameters, which are stored in the dict `params`. We have two options for both paramters, thus our ensemble will run 4 instances of the same `Experiment`, just using a different copy of `output_my_parameter.py`. We attach the template file to the `Ensemble` instance and we run the experiment."
   ]
  },
  {
   "cell_type": "code",
   "execution_count": 14,
   "metadata": {},
   "outputs": [
    {
     "name": "stdout",
     "output_type": "stream",
     "text": [
      "03:43:08 C02YR4ANLVCJ SmartSim[6230] INFO ensemble_0(6315): Completed\n",
      "03:43:08 C02YR4ANLVCJ SmartSim[6230] INFO ensemble_1(6316): Completed\n",
      "03:43:08 C02YR4ANLVCJ SmartSim[6230] INFO ensemble_2(6317): Completed\n",
      "03:43:08 C02YR4ANLVCJ SmartSim[6230] INFO ensemble_3(6318): Completed\n",
      "03:43:09 C02YR4ANLVCJ SmartSim[6230] INFO ensemble_0(6315): Completed\n",
      "03:43:09 C02YR4ANLVCJ SmartSim[6230] INFO ensemble_1(6316): Completed\n",
      "03:43:09 C02YR4ANLVCJ SmartSim[6230] INFO ensemble_2(6317): Completed\n",
      "03:43:12 C02YR4ANLVCJ SmartSim[6230] INFO ensemble_3(6318): Completed\n"
     ]
    }
   ],
   "source": [
    "params = {\"tutorial_name\": [\"Ellie\", \"John\"], \"tutorial_parameter\": [2, 11]}\n",
    "ensemble = exp.create_ensemble(\"ensemble\", params=params, run_settings=rs, perm_strategy=\"all_perm\")\n",
    "config_file = \"./output_my_parameter.py\"\n",
    "ensemble.attach_generator_files(to_configure=config_file)\n",
    "\n",
    "exp.generate(ensemble, overwrite=True)\n",
    "exp.start(ensemble)"
   ]
  },
  {
   "cell_type": "markdown",
   "metadata": {},
   "source": [
    "We can see from the output that four instances of our experiment were run, each one named like the `Experiment`, with a numeric suffix at the end: `ensemble_0`, `ensemble_1`, ... each ensemble member generated its own output files, which will be stored in `tutorial-ensemble/ensemble/ensemble_0`, `tutorial-ensemble/ensemble/ensemble_1`, and so on."
   ]
  },
  {
   "cell_type": "code",
   "execution_count": 15,
   "metadata": {},
   "outputs": [
    {
     "name": "stdout",
     "output_type": "stream",
     "text": [
      "Content of tutorial-ensemble/ensemble/ensemble_0/ensemble_0.out:\n",
      "Hello, my name is Ellie and my parameter is 2\n",
      "\n",
      "Content of tutorial-ensemble/ensemble/ensemble_1/ensemble_1.out:\n",
      "Hello, my name is Ellie and my parameter is 11\n",
      "\n",
      "Content of tutorial-ensemble/ensemble/ensemble_2/ensemble_2.out:\n",
      "Hello, my name is John and my parameter is 2\n",
      "\n",
      "Content of tutorial-ensemble/ensemble/ensemble_3/ensemble_3.out:\n",
      "Hello, my name is John and my parameter is 11\n",
      "\n"
     ]
    }
   ],
   "source": [
    "for ensemble_id in range(4):\n",
    "    outputfile = 'tutorial-ensemble/ensemble/ensemble_' + str(ensemble_id)+\"/ensemble_\"+ str(ensemble_id)+\".out\"\n",
    "\n",
    "    print(f\"Content of {outputfile}:\")\n",
    "    with open(outputfile, 'r') as fin:\n",
    "        print(fin.read())\n"
   ]
  },
  {
   "cell_type": "markdown",
   "metadata": {},
   "source": [
    "That's it! All possible permutations of the input parameters were used to execute the experiment! Sometimes, the parameter space can be too large to be explored exhaustively. In that case, we can use a different permutation strategy, i.e. `random`. For example, if we want to only use two possible random combinations of our parameter space, we can run the following code, where we specift `n_models=2` and `perm_strategy=\"random\"`."
   ]
  },
  {
   "cell_type": "code",
   "execution_count": 16,
   "metadata": {},
   "outputs": [
    {
     "name": "stdout",
     "output_type": "stream",
     "text": [
      "03:43:13 C02YR4ANLVCJ SmartSim[6230] INFO Working in previously created experiment\n",
      "03:43:18 C02YR4ANLVCJ SmartSim[6230] INFO ensemble_0(6327): Completed\n",
      "03:43:18 C02YR4ANLVCJ SmartSim[6230] INFO ensemble_1(6328): Completed\n",
      "03:43:19 C02YR4ANLVCJ SmartSim[6230] INFO ensemble_0(6327): Completed\n",
      "03:43:19 C02YR4ANLVCJ SmartSim[6230] INFO ensemble_1(6328): Completed\n"
     ]
    }
   ],
   "source": [
    "params = {\"tutorial_name\": [\"Ellie\", \"John\"], \"tutorial_parameter\": [2, 11]}\n",
    "ensemble = exp.create_ensemble(\"ensemble\", params=params, run_settings=rs, perm_strategy=\"random\", n_models=2)\n",
    "config_file = \"./output_my_parameter.py\"\n",
    "ensemble.attach_generator_files(to_configure=config_file)\n",
    "\n",
    "exp.generate(ensemble, overwrite=True)\n",
    "exp.start(ensemble)"
   ]
  },
  {
   "cell_type": "markdown",
   "metadata": {},
   "source": [
    "Another possible permutation strategy is `stepped`, but it is also possible to pass a function, which will need to generate combinations of parameters starting from the dictionary. Please refer to the documentation to learn more about this.\n",
    "\n",
    "\n",
    "It is also possible to use different delimiters for the parameter regexp. For example, if instead of `;`, we want to use `@`, we can set it as `tag` in `generate`. We have to use a different version of the parameterized file, one named `output_my_parameter_new_tag.py`."
   ]
  },
  {
   "cell_type": "code",
   "execution_count": 17,
   "metadata": {},
   "outputs": [
    {
     "name": "stdout",
     "output_type": "stream",
     "text": [
      "03:43:29 C02YR4ANLVCJ SmartSim[6230] INFO ensemble_0(6329): Completed\n",
      "03:43:29 C02YR4ANLVCJ SmartSim[6230] INFO ensemble_1(6330): Completed\n",
      "03:43:29 C02YR4ANLVCJ SmartSim[6230] INFO ensemble_2(6331): Completed\n",
      "03:43:29 C02YR4ANLVCJ SmartSim[6230] INFO ensemble_3(6332): Completed\n",
      "03:43:30 C02YR4ANLVCJ SmartSim[6230] INFO ensemble_0(6329): Completed\n",
      "03:43:30 C02YR4ANLVCJ SmartSim[6230] INFO ensemble_1(6330): Completed\n",
      "03:43:30 C02YR4ANLVCJ SmartSim[6230] INFO ensemble_2(6331): Completed\n",
      "03:43:33 C02YR4ANLVCJ SmartSim[6230] INFO ensemble_3(6332): Completed\n"
     ]
    }
   ],
   "source": [
    "exp = Experiment(\"tutorial-ensemble-new-tag\", launcher=\"local\")\n",
    "rs = RunSettings(exe=\"python\", exe_args=\"output_my_parameter_new_tag.py\")\n",
    "params = {\"tutorial_name\": [\"Ellie\", \"John\"], \"tutorial_parameter\": [2, 11]}\n",
    "ensemble = exp.create_ensemble(\"ensemble\", params=params, run_settings=rs, perm_strategy=\"all_perm\")\n",
    "config_file = \"./output_my_parameter_new_tag.py\"\n",
    "ensemble.attach_generator_files(to_configure=config_file)\n",
    "\n",
    "exp.generate(ensemble, overwrite=True, tag='@')\n",
    "exp.start(ensemble)"
   ]
  },
  {
   "cell_type": "markdown",
   "metadata": {},
   "source": [
    "## 1.3 Launching and communicating with the orchestrator\n",
    "\n",
    "In this section we will see how to use the `Orchestrator` and `SmartRedis` to interact with an in-memory DB. We start by importing the SmartRedis `Client` and the `Orchestrator`"
   ]
  },
  {
   "cell_type": "code",
   "execution_count": 18,
   "metadata": {},
   "outputs": [],
   "source": [
    "from smartredis import Client\n",
    "from smartsim.database import Orchestrator\n",
    "import numpy as np\n",
    "\n",
    "REDIS_PORT=6899"
   ]
  },
  {
   "cell_type": "markdown",
   "metadata": {},
   "source": [
    "As first thing, we will start the `Orchestrator`. Since we are setting `launcher=\"local\"` in `Experiment`, the `Orchestrator` will run a single DB instance, once we start the `Experiment`."
   ]
  },
  {
   "cell_type": "code",
   "execution_count": 19,
   "metadata": {},
   "outputs": [],
   "source": [
    "\n",
    "exp = Experiment(\"tutorial-smartredis\", launcher=\"local\")\n",
    "\n",
    "# create and start a database\n",
    "orc = Orchestrator(port=REDIS_PORT)\n",
    "exp.generate(orc)\n",
    "exp.start(orc, block=False)"
   ]
  },
  {
   "cell_type": "markdown",
   "metadata": {},
   "source": [
    "Now that the `Orchestrator` is running, we can use SmartRedis to store NumPy tensors on the Redis DB, and get them back. This is done using the SmartSim `Client`. First, we setup a connection to the DB."
   ]
  },
  {
   "cell_type": "code",
   "execution_count": 20,
   "metadata": {},
   "outputs": [],
   "source": [
    "client = Client(address='127.0.0.1:'+str(REDIS_PORT), cluster=False)"
   ]
  },
  {
   "cell_type": "markdown",
   "metadata": {},
   "source": [
    "Then, we can use the DB to put and retrieve tensors. We need to assign a unique key to each tensor (or object) we store on the DB."
   ]
  },
  {
   "cell_type": "code",
   "execution_count": 22,
   "metadata": {},
   "outputs": [
    {
     "name": "stdout",
     "output_type": "stream",
     "text": [
      "Receive tensor:\n",
      "\n",
      " [[[1. 1. 1.]\n",
      "  [1. 1. 1.]\n",
      "  [1. 1. 1.]]\n",
      "\n",
      " [[1. 1. 1.]\n",
      "  [1. 1. 1.]\n",
      "  [1. 1. 1.]]\n",
      "\n",
      " [[1. 1. 1.]\n",
      "  [1. 1. 1.]\n",
      "  [1. 1. 1.]]\n",
      "\n",
      " [[1. 1. 1.]\n",
      "  [1. 1. 1.]\n",
      "  [1. 1. 1.]]]\n"
     ]
    }
   ],
   "source": [
    "send_tensor = np.ones((4,3,3))\n",
    "\n",
    "client.put_tensor(\"tutorial_tensor_1\", send_tensor)\n",
    "\n",
    "receive_tensor = client.get_tensor(\"tutorial_tensor_1\")\n",
    "\n",
    "print('Receive tensor:\\n\\n', receive_tensor)"
   ]
  },
  {
   "cell_type": "markdown",
   "metadata": {},
   "source": [
    "Thanks to the SmartRedis `Client` and its possibility to access functions from the RedisAI module, we can store and run a NN model directly on the DB node. We first create a one-layer PyTorch Convolutional Neural Network, and save it as a jit-traced, serialized, object."
   ]
  },
  {
   "cell_type": "code",
   "execution_count": 23,
   "metadata": {},
   "outputs": [],
   "source": [
    "import torch\n",
    "import torch.nn as nn\n",
    "\n",
    "# taken from https://pytorch.org/docs/master/generated/torch.jit.trace.html\n",
    "class Net(nn.Module):\n",
    "    def __init__(self):\n",
    "        super(Net, self).__init__()\n",
    "        self.conv = nn.Conv2d(1, 1, 3)\n",
    "\n",
    "    def forward(self, x):\n",
    "        return self.conv(x)\n",
    "\n",
    "\n",
    "net = Net()\n",
    "example_forward_input = torch.rand(1, 1, 3, 3)\n",
    "module = torch.jit.trace(net, example_forward_input)\n",
    "\n",
    "# Save the traced model to a file\n",
    "torch.jit.save(module, \"./torch_cnn.pt\")   "
   ]
  },
  {
   "cell_type": "markdown",
   "metadata": {},
   "source": [
    "Now we send the model to the database, again, we assign it a unique key, `tutorial-cnn`, which we will use to refer to the model when using the `Client`."
   ]
  },
  {
   "cell_type": "code",
   "execution_count": 24,
   "metadata": {},
   "outputs": [],
   "source": [
    "# Set the model in the Redis database from the file\n",
    "client.set_model_from_file(\"tutorial-cnn\", \"./torch_cnn.pt\", \"TORCH\", \"CPU\")"
   ]
  },
  {
   "cell_type": "markdown",
   "metadata": {},
   "source": [
    "Now we create a random tensor, store it on the DB, and use it as input to the CNN we just sent. RedisAI will run the model and store the output with the key we specify. Using that key, we can retrieve the tensor."
   ]
  },
  {
   "cell_type": "code",
   "execution_count": 25,
   "metadata": {},
   "outputs": [],
   "source": [
    "# Put a tensor in the database as a test input\n",
    "data = torch.rand(1, 1, 3, 3).numpy()\n",
    "client.put_tensor(\"torch_cnn_input\", data)\n",
    "\n",
    "# Run model and retrieve the output\n",
    "client.run_model(\"tutorial-cnn\", inputs=[\"torch_cnn_input\"], outputs=[\"torch_cnn_output\"])\n",
    "out_data = client.get_tensor(\"torch_cnn_output\")"
   ]
  },
  {
   "cell_type": "markdown",
   "metadata": {},
   "source": [
    "Notice that we could have defined the model as an object (without storing it on disk) and send it to the DB using `set_model` instead of `set_model_from_file`. We can do the same thing for any Python function. For example, let's define a simple function takes a NumPy tensor as input."
   ]
  },
  {
   "cell_type": "code",
   "execution_count": 26,
   "metadata": {},
   "outputs": [
    {
     "name": "stdout",
     "output_type": "stream",
     "text": [
      "[[0. 1. 2. 3. 4. 5. 6. 7. 8.]]\n",
      "Max:\n",
      "8.0\n"
     ]
    }
   ],
   "source": [
    "def max_of_tensor(array):\n",
    "    \"\"\"Sample torchscript script that returns the\n",
    "    highest element in an array.\n",
    "\n",
    "    \"\"\"\n",
    "    # return the highest element\n",
    "    return array.max(1)[0]\n",
    "\n",
    "sample_array_1 = np.array([np.arange(9.)])\n",
    "print(sample_array_1)\n",
    "print(\"Max:\")\n",
    "print(max_of_tensor(sample_array_1))"
   ]
  },
  {
   "cell_type": "markdown",
   "metadata": {},
   "source": [
    "Now let's store this function on the DB, assignign it the key `max-of-tensor`: "
   ]
  },
  {
   "cell_type": "code",
   "execution_count": 27,
   "metadata": {},
   "outputs": [],
   "source": [
    "client.set_function(\"max-of-tensor\", max_of_tensor)"
   ]
  },
  {
   "cell_type": "markdown",
   "metadata": {},
   "source": [
    "Now we perform the same sample computation on the DB. "
   ]
  },
  {
   "cell_type": "code",
   "execution_count": 29,
   "metadata": {},
   "outputs": [
    {
     "name": "stdout",
     "output_type": "stream",
     "text": [
      "[8.]\n"
     ]
    }
   ],
   "source": [
    "client.put_tensor(\"script-data-1\", sample_array_1)\n",
    "client.run_script(\n",
    "    \"max-of-tensor\",  # key of our script\n",
    "    \"max_of_tensor\",  # function to be called\n",
    "    [\"script-data-1\"],\n",
    "    [\"script-output\"],\n",
    ")\n",
    "\n",
    "out = client.get_tensor(\"script-output\")\n",
    "\n",
    "print(out)"
   ]
  },
  {
   "cell_type": "markdown",
   "metadata": {},
   "source": [
    "And, as expected, we obtain the same result we obtained when we ran the function locally. To clean up, we need to tear down the DB. We do this by stopping the `Orchestrator`."
   ]
  },
  {
   "cell_type": "code",
   "execution_count": 30,
   "metadata": {},
   "outputs": [
    {
     "name": "stdout",
     "output_type": "stream",
     "text": [
      "03:44:44 C02YR4ANLVCJ SmartSim[6230] INFO Stopping model orchestrator_0 with job name orchestrator_0-CACUV0TN47RK\n"
     ]
    }
   ],
   "source": [
    "exp.stop(orc)"
   ]
  },
  {
   "cell_type": "markdown",
   "metadata": {},
   "source": [
    "## 1.4 Ensembles using SmartRedis\n",
    "\n",
    "In Section 1.2 we have seen `Ensemble`s. What would happen if `Model`s which are part of an `Ensemble` tried to put their tensors on the DB using SmartRedis? Unless we used unique keys across the running programs, several tensors (or objects) would have the same key, and this key collision would result in unexpected behavior. In other words, if in the source code of one program, a tensor with key `tensor1` was put on the DB, then each replica of the program would put a tensor with the key `tensor1`. SmartSim and SmartRedis can avoid key collision by prepending program-unique prefixes to entities. \n",
    "\n",
    "Let's start by setting up the experiment with the `Orchestrator`."
   ]
  },
  {
   "cell_type": "code",
   "execution_count": 31,
   "metadata": {},
   "outputs": [
    {
     "name": "stdout",
     "output_type": "stream",
     "text": [
      "03:44:44 C02YR4ANLVCJ SmartSim[6230] INFO Working in previously created experiment\n"
     ]
    }
   ],
   "source": [
    "exp = Experiment(\"tutorial-smartredis-ensemble\", launcher=\"local\")\n",
    "\n",
    "# create and start a database\n",
    "orc = Orchestrator(port=REDIS_PORT)\n",
    "exp.generate(orc)\n",
    "exp.start(orc, block=False)"
   ]
  },
  {
   "cell_type": "markdown",
   "metadata": {},
   "source": [
    "Now let's add two replicas of the same `Model`. Basically, it is a simple producer, which puts a tensor on the DB. The code for it is in `producer.py`."
   ]
  },
  {
   "cell_type": "code",
   "execution_count": 32,
   "metadata": {},
   "outputs": [],
   "source": [
    "rs_prod = RunSettings(\"python\", \"producer.py --redis-port \"+str(REDIS_PORT))\n",
    "ensemble = exp.create_ensemble(name=\"producer\",\n",
    "                               replicas=2, \n",
    "                               run_settings=rs_prod)"
   ]
  },
  {
   "cell_type": "markdown",
   "metadata": {},
   "source": [
    "We add a consumer, which will just retrieve the tensors put by the two producers and check that they are what it expects."
   ]
  },
  {
   "cell_type": "code",
   "execution_count": 33,
   "metadata": {},
   "outputs": [],
   "source": [
    "rs_consumer = RunSettings(\"python\", \"consumer.py --redis-port \"+str(REDIS_PORT))\n",
    "consumer = exp.create_model(\"consumer\", run_settings=rs_consumer)"
   ]
  },
  {
   "cell_type": "markdown",
   "metadata": {},
   "source": [
    "We need to register incoming entities, i.e. entities for which the prefix will have to be known by other entities. When we will start the `Experiment`, environment variables will be set to let all entities know which incoming entities are present."
   ]
  },
  {
   "cell_type": "code",
   "execution_count": 34,
   "metadata": {},
   "outputs": [],
   "source": [
    "consumer.register_incoming_entity(ensemble[0])\n",
    "consumer.register_incoming_entity(ensemble[1])"
   ]
  },
  {
   "cell_type": "markdown",
   "metadata": {},
   "source": [
    "Finally, we attach the files to the experiments, generate them, and run!"
   ]
  },
  {
   "cell_type": "code",
   "execution_count": 35,
   "metadata": {},
   "outputs": [
    {
     "name": "stdout",
     "output_type": "stream",
     "text": [
      "03:45:15 C02YR4ANLVCJ SmartSim[6230] INFO Working in previously created experiment\n",
      "03:45:15 C02YR4ANLVCJ SmartSim[6230] INFO Working in previously created experiment\n",
      "\n",
      "\n",
      "\u001b[36;1m=== LAUNCH SUMMARY ===\u001b[0m\n",
      "\u001b[32;1mExperiment: tutorial-smartredis-ensemble\u001b[0m\n",
      "\u001b[32mExperiment Path: /Users/arigazzi/Documents/DeepLearning/smartsim-dev/SmartSim/tutorials/01_getting_started/tutorial-smartredis-ensemble\u001b[0m\n",
      "\u001b[32mLaunching with: local\u001b[0m\n",
      "\u001b[32m# of Ensembles: 1\u001b[0m\n",
      "\u001b[32m# of Models: 1\u001b[0m\n",
      "\u001b[32mDatabase: no\u001b[0m\n",
      "\n",
      "\u001b[36;1m=== ENSEMBLES ===\u001b[0m\n",
      "\u001b[32;1mproducer\u001b[0m\n",
      "\u001b[32m# of models in ensemble: 2\u001b[0m\n",
      "\u001b[32mLaunching as batch: False\u001b[0m\n",
      "\u001b[32mRun Settings: \n",
      "Executable: /usr/local/anaconda3/envs/smartsim/bin/python\n",
      "Executable arguments: ['producer.py', '--redis-port', '6899']\n",
      "\u001b[0m\n",
      "\n",
      "\n",
      "\u001b[36;1m=== MODELS ===\u001b[0m\n",
      "\u001b[32;1mconsumer\u001b[0m\n",
      "\u001b[32mModel Parameters: \n",
      "{}\u001b[0m\n",
      "\u001b[32mModel Run Settings: \n",
      "Executable: /usr/local/anaconda3/envs/smartsim/bin/python\n",
      "Executable arguments: ['consumer.py', '--redis-port', '6899']\n",
      "\u001b[0m\n",
      "\n",
      "\n",
      "\n",
      "\n"
     ]
    },
    {
     "name": "stderr",
     "output_type": "stream",
     "text": [
      "                                                                                \r"
     ]
    },
    {
     "name": "stdout",
     "output_type": "stream",
     "text": [
      "03:45:29 C02YR4ANLVCJ SmartSim[6230] INFO producer_0(6428): Completed\n",
      "03:45:29 C02YR4ANLVCJ SmartSim[6230] INFO consumer(6430): Completed\n",
      "03:45:30 C02YR4ANLVCJ SmartSim[6230] INFO producer_1(6429): Completed\n",
      "03:45:33 C02YR4ANLVCJ SmartSim[6230] INFO producer_1(6429): Completed\n"
     ]
    }
   ],
   "source": [
    "ensemble.attach_generator_files(to_copy=['producer.py'])\n",
    "consumer.attach_generator_files(to_copy=['consumer.py'])\n",
    "exp.generate(ensemble, overwrite=True)\n",
    "exp.generate(consumer, overwrite=True)\n",
    "\n",
    "# start the models\n",
    "exp.start(ensemble, consumer, summary=True)"
   ]
  },
  {
   "cell_type": "markdown",
   "metadata": {},
   "source": [
    "The producers produced random NumPy tensors, and we can see that the consumer was able to retrieve both of them from the DB, by looking at its output."
   ]
  },
  {
   "cell_type": "code",
   "execution_count": 36,
   "metadata": {},
   "outputs": [
    {
     "name": "stdout",
     "output_type": "stream",
     "text": [
      "Tensor for producer_0 is: [[[[0.58531817 0.30393151 0.28384912]\n",
      "   [0.38601273 0.88431641 0.08462409]\n",
      "   [0.91530914 0.95270186 0.77886599]]]]\n",
      "Tensor for producer_1 is: [[[[0.56121212 0.07056607 0.25703332]\n",
      "   [0.03478823 0.69236882 0.99710588]\n",
      "   [0.03601962 0.12958589 0.08349446]]]]\n",
      "\n"
     ]
    }
   ],
   "source": [
    "outputfile = './tutorial-smartredis-ensemble/consumer/consumer.out'\n",
    "\n",
    "with open(outputfile, 'r') as fin:\n",
    "    print(fin.read())"
   ]
  },
  {
   "cell_type": "markdown",
   "metadata": {},
   "source": [
    "As usual, let's shutdown the DB, by stopping the `Orchestrator`."
   ]
  },
  {
   "cell_type": "code",
   "execution_count": 37,
   "metadata": {},
   "outputs": [
    {
     "name": "stdout",
     "output_type": "stream",
     "text": [
      "03:45:35 C02YR4ANLVCJ SmartSim[6230] INFO Stopping model orchestrator_0 with job name orchestrator_0-CACUVX62J3Y8\n"
     ]
    }
   ],
   "source": [
    "exp.stop(orc)"
   ]
  }
 ],
 "metadata": {
  "kernelspec": {
   "display_name": "Python [conda env:smartsim]",
   "language": "python",
   "name": "conda-env-smartsim-py"
  },
  "language_info": {
   "codemirror_mode": {
    "name": "ipython",
    "version": 3
   },
   "file_extension": ".py",
   "mimetype": "text/x-python",
   "name": "python",
   "nbconvert_exporter": "python",
   "pygments_lexer": "ipython3",
   "version": "3.8.8"
  }
 },
 "nbformat": 4,
 "nbformat_minor": 4
}
